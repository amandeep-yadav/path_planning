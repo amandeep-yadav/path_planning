{
 "cells": [
  {
   "cell_type": "code",
   "execution_count": 1,
   "id": "7be74760",
   "metadata": {},
   "outputs": [],
   "source": [
    "import numpy as np"
   ]
  },
  {
   "cell_type": "code",
   "execution_count": 2,
   "id": "92826f1b",
   "metadata": {},
   "outputs": [],
   "source": [
    "import cv2"
   ]
  },
  {
   "cell_type": "code",
   "execution_count": 3,
   "id": "057ff087",
   "metadata": {},
   "outputs": [],
   "source": [
    "g=cv2.imread(\"IMG3.jpeg\")\n",
    "cv2.imshow(\"1\",g)\n",
    "cv2.waitKey(0)\n",
    "cv2.destroyAllWindows()"
   ]
  },
  {
   "cell_type": "code",
   "execution_count": 4,
   "id": "794eebcb",
   "metadata": {},
   "outputs": [],
   "source": [
    "n,m,x=g.shape"
   ]
  },
  {
   "cell_type": "code",
   "execution_count": 5,
   "id": "b31368cd",
   "metadata": {},
   "outputs": [
    {
     "data": {
      "text/plain": [
       "28"
      ]
     },
     "execution_count": 5,
     "metadata": {},
     "output_type": "execute_result"
    }
   ],
   "source": [
    "n"
   ]
  },
  {
   "cell_type": "code",
   "execution_count": 6,
   "id": "c356965e",
   "metadata": {},
   "outputs": [],
   "source": [
    "environment_rows = 28\n",
    "environment_columns =25\n",
    "q_values = np.zeros((environment_rows, environment_columns, 4))"
   ]
  },
  {
   "cell_type": "code",
   "execution_count": null,
   "id": "957b7718",
   "metadata": {},
   "outputs": [],
   "source": []
  },
  {
   "cell_type": "code",
   "execution_count": 7,
   "id": "60399b81",
   "metadata": {},
   "outputs": [],
   "source": [
    "actions = ['up', 'right', 'down', 'left']"
   ]
  },
  {
   "cell_type": "code",
   "execution_count": 8,
   "id": "2e307da3",
   "metadata": {},
   "outputs": [
    {
     "name": "stdout",
     "output_type": "stream",
     "text": [
      "[-100. -100. -100. -100. -100. -100. -100.  100.   -1.   -1.   -1. -100.\n",
      " -100. -100. -100. -100. -100. -100. -100. -100. -100. -100.   -1.   -1.\n",
      "   -1.]\n",
      "[-100. -100. -100. -100. -100. -100. -100.   -1.   -1.   -1.   -1. -100.\n",
      " -100. -100. -100. -100. -100. -100. -100. -100. -100.   -1.   -1.   -1.\n",
      " -100.]\n",
      "[-100. -100. -100. -100. -100. -100. -100.   -1.   -1.   -1. -100. -100.\n",
      " -100. -100. -100. -100. -100. -100. -100. -100. -100.   -1.   -1.   -1.\n",
      " -100.]\n",
      "[-100. -100. -100. -100. -100. -100.   -1.   -1.   -1.   -1. -100. -100.\n",
      " -100. -100. -100. -100. -100. -100. -100. -100.   -1.   -1.   -1. -100.\n",
      " -100.]\n",
      "[-100. -100. -100. -100. -100. -100.   -1.   -1.   -1. -100. -100. -100.\n",
      " -100. -100. -100. -100. -100. -100. -100. -100.   -1.   -1.   -1. -100.\n",
      " -100.]\n",
      "[-100. -100. -100. -100. -100.   -1.   -1.   -1. -100. -100. -100. -100.\n",
      " -100. -100. -100. -100. -100. -100. -100.   -1.   -1.   -1. -100. -100.\n",
      " -100.]\n",
      "[-100. -100. -100. -100. -100.   -1.   -1.   -1. -100. -100. -100. -100.\n",
      " -100. -100. -100. -100. -100. -100.   -1.   -1.   -1.   -1. -100. -100.\n",
      " -100.]\n",
      "[-100. -100. -100. -100.   -1.   -1.   -1. -100. -100. -100. -100. -100.\n",
      " -100. -100. -100. -100. -100. -100.   -1.   -1.   -1. -100. -100. -100.\n",
      " -100.]\n",
      "[-100. -100. -100.   -1.   -1.   -1.   -1. -100. -100. -100. -100. -100.\n",
      " -100. -100. -100. -100. -100.   -1.   -1.   -1.   -1. -100. -100. -100.\n",
      " -100.]\n",
      "[-100. -100. -100.   -1.   -1.   -1. -100. -100. -100. -100. -100. -100.\n",
      " -100. -100. -100. -100. -100.   -1.   -1.   -1. -100. -100. -100. -100.\n",
      " -100.]\n",
      "[-100. -100.   -1.   -1.   -1.   -1. -100. -100. -100. -100. -100. -100.\n",
      " -100. -100. -100. -100.   -1. -100.   -1. -100. -100. -100. -100. -100.\n",
      " -100.]\n",
      "[-100. -100.   -1.   -1.   -1. -100. -100. -100. -100. -100. -100. -100.\n",
      " -100. -100. -100.   -1.   -1. -100.   -1. -100. -100. -100. -100. -100.\n",
      " -100.]\n",
      "[  -1.   -1.   -1.   -1. -100. -100. -100. -100. -100. -100. -100. -100.\n",
      " -100. -100. -100.   -1.   -1.   -1. -100. -100. -100. -100. -100. -100.\n",
      " -100.]\n",
      "[  -1.   -1.   -1.   -1. -100. -100. -100. -100. -100. -100. -100. -100.\n",
      " -100. -100.   -1.   -1.   -1.   -1. -100. -100. -100. -100. -100. -100.\n",
      " -100.]\n",
      "[  -1.   -1.   -1.   -1.   -1.   -1. -100. -100. -100. -100. -100. -100.\n",
      " -100. -100.   -1.   -1.   -1. -100. -100. -100. -100. -100. -100. -100.\n",
      " -100.]\n",
      "[-100. -100.   -1.   -1.   -1.   -1.   -1.   -1. -100. -100. -100. -100.\n",
      " -100.   -1.   -1.   -1. -100. -100. -100. -100. -100. -100. -100. -100.\n",
      " -100.]\n",
      "[-100. -100. -100. -100.   -1.   -1.   -1.   -1.   -1.   -1. -100. -100.\n",
      " -100.   -1.   -1.   -1. -100. -100. -100. -100. -100. -100. -100. -100.\n",
      " -100.]\n",
      "[-100. -100. -100. -100. -100. -100.   -1.   -1.   -1.   -1.   -1.   -1.\n",
      "   -1.   -1.   -1. -100. -100. -100. -100. -100. -100. -100. -100. -100.\n",
      " -100.]\n",
      "[-100. -100. -100. -100. -100. -100. -100. -100.   -1.   -1.   -1.   -1.\n",
      "   -1.   -1.   -1. -100. -100. -100. -100. -100. -100. -100. -100. -100.\n",
      " -100.]\n",
      "[-100. -100. -100. -100. -100. -100. -100. -100. -100. -100.   -1.   -1.\n",
      "   -1.   -1.   -1. -100.   -1. -100. -100. -100. -100. -100. -100. -100.\n",
      " -100.]\n",
      "[-100. -100. -100. -100. -100. -100. -100. -100. -100. -100. -100. -100.\n",
      "   -1.   -1.   -1.   -1.   -1.   -1. -100. -100. -100. -100. -100. -100.\n",
      " -100.]\n",
      "[-100. -100. -100. -100. -100. -100. -100. -100. -100. -100. -100. -100.\n",
      " -100. -100.   -1.   -1.   -1.   -1.   -1.   -1. -100. -100. -100. -100.\n",
      " -100.]\n",
      "[-100. -100. -100. -100. -100. -100. -100. -100. -100. -100. -100. -100.\n",
      " -100. -100. -100. -100.   -1.   -1.   -1.   -1.   -1.   -1. -100. -100.\n",
      " -100.]\n",
      "[-100. -100. -100. -100. -100. -100. -100. -100. -100. -100. -100. -100.\n",
      " -100. -100. -100. -100. -100. -100.   -1.   -1.   -1.   -1.   -1.   -1.\n",
      " -100.]\n",
      "[-100. -100. -100. -100. -100. -100. -100. -100. -100. -100. -100. -100.\n",
      " -100. -100. -100. -100. -100. -100. -100. -100.   -1.   -1.   -1.   -1.\n",
      "   -1.]\n",
      "[-100. -100. -100. -100. -100. -100. -100. -100. -100. -100. -100. -100.\n",
      " -100. -100. -100. -100. -100. -100. -100. -100. -100.   -1.   -1.   -1.\n",
      " -100.]\n",
      "[-100. -100. -100. -100. -100. -100. -100. -100. -100. -100. -100. -100.\n",
      " -100. -100. -100. -100. -100. -100. -100. -100.   -1.   -1.   -1.   -1.\n",
      " -100.]\n",
      "[-100. -100. -100. -100. -100. -100. -100. -100. -100. -100. -100. -100.\n",
      " -100. -100. -100. -100. -100. -100. -100. -100.   -1.   -1.   -1. -100.\n",
      " -100.]\n"
     ]
    }
   ],
   "source": [
    "rewards = np.full((environment_rows, environment_columns), -100.)\n",
    "rewards[0, 7] = 100. \n",
    "for i in range(environment_rows):\n",
    "    for j in range(environment_columns):\n",
    "        if np.sum(g[i][j])>650:\n",
    "            rewards[i][j]=-1\n",
    "for row in rewards:\n",
    "    print(row)\n",
    "# rewards[209][34]"
   ]
  },
  {
   "cell_type": "code",
   "execution_count": 9,
   "id": "dcd49a81",
   "metadata": {},
   "outputs": [
    {
     "data": {
      "text/plain": [
       "-1.0"
      ]
     },
     "execution_count": 9,
     "metadata": {},
     "output_type": "execute_result"
    }
   ],
   "source": [
    "rewards[25][23]"
   ]
  },
  {
   "cell_type": "code",
   "execution_count": null,
   "id": "8f0026fe",
   "metadata": {},
   "outputs": [],
   "source": []
  },
  {
   "cell_type": "code",
   "execution_count": null,
   "id": "ea745666",
   "metadata": {},
   "outputs": [],
   "source": []
  },
  {
   "cell_type": "code",
   "execution_count": null,
   "id": "33448da6",
   "metadata": {},
   "outputs": [],
   "source": []
  },
  {
   "cell_type": "code",
   "execution_count": 10,
   "id": "ff716e7e",
   "metadata": {},
   "outputs": [],
   "source": [
    "#finding the given state \n",
    "def is_terminal_state(current_row_index, current_column_index):\n",
    "    if rewards[current_row_index, current_column_index] == -1.:\n",
    "        return False\n",
    "    else:\n",
    "        return True\n",
    "\n",
    "def get_starting_location():\n",
    "    #finding a non terminaing starting position\n",
    "    current_row_index = np.random.randint(environment_rows)\n",
    "    current_column_index = np.random.randint(environment_columns)\n",
    "\n",
    "    while is_terminal_state(current_row_index, current_column_index):\n",
    "        current_row_index = np.random.randint(environment_rows)\n",
    "        current_column_index = np.random.randint(environment_columns)\n",
    "    return current_row_index, current_column_index\n",
    "\n",
    "def get_next_action(current_row_index, current_column_index, epsilon):\n",
    "    if np.random.random() < epsilon:\n",
    "        return np.argmax(q_values[current_row_index, current_column_index])\n",
    "    else:\n",
    "        return np.random.randint(4)\n",
    "\n",
    "def get_next_location(current_row_index, current_column_index, action_index):\n",
    "    new_row_index = current_row_index\n",
    "    new_column_index = current_column_index\n",
    "    if actions[action_index] == 'up' and current_row_index > 0:\n",
    "        new_row_index -= 1\n",
    "    elif actions[action_index] == 'right' and current_column_index < environment_columns - 1:\n",
    "        new_column_index += 1\n",
    "    elif actions[action_index] == 'down' and current_row_index < environment_rows - 1:\n",
    "        new_row_index += 1\n",
    "    elif actions[action_index] == 'left' and current_column_index > 0:\n",
    "        new_column_index -= 1\n",
    "    return new_row_index, new_column_index\n",
    "\n",
    "def get_shortest_path(start_row_index, start_column_index):\n",
    "\n",
    "    if is_terminal_state(start_row_index, start_column_index):\n",
    "        return []\n",
    "    else:\n",
    "        current_row_index, current_column_index = start_row_index, start_column_index\n",
    "        shortest_path = []\n",
    "        shortest_path.append([current_row_index, current_column_index])\n",
    "\n",
    "    while not is_terminal_state(current_row_index, current_column_index):\n",
    "    \n",
    "        action_index = get_next_action(current_row_index, current_column_index, .9)\n",
    "    \n",
    "        current_row_index, current_column_index = get_next_location(current_row_index, current_column_index, action_index)\n",
    "        shortest_path.append([current_row_index, current_column_index])\n",
    "    return shortest_path"
   ]
  },
  {
   "cell_type": "code",
   "execution_count": 11,
   "id": "bd73822b",
   "metadata": {},
   "outputs": [
    {
     "name": "stdout",
     "output_type": "stream",
     "text": [
      "Training complete!\n"
     ]
    }
   ],
   "source": [
    "epsilon = 0.9\n",
    "discount_factor = 0.9 \n",
    "learning_rate = 0.9\n",
    "\n",
    "\n",
    "for episode in range(1000):\n",
    " \n",
    "    row_index, column_index = get_starting_location()\n",
    "\n",
    " \n",
    "    while not is_terminal_state(row_index, column_index):\n",
    "   \n",
    "        action_index = get_next_action(row_index, column_index, epsilon)\n",
    "\n",
    "    \n",
    "        old_row_index, old_column_index = row_index, column_index \n",
    "        row_index, column_index = get_next_location(row_index, column_index, action_index)\n",
    "    \n",
    "    \n",
    "        reward = rewards[row_index, column_index]\n",
    "        old_q_value = q_values[old_row_index, old_column_index, action_index]\n",
    "        temporal_difference = reward + (discount_factor * np.max(q_values[row_index, column_index])) - old_q_value\n",
    "\n",
    "    \n",
    "        new_q_value = old_q_value + (learning_rate * temporal_difference)\n",
    "        q_values[old_row_index, old_column_index, action_index] = new_q_value\n",
    "\n",
    "print('Training complete!')"
   ]
  },
  {
   "cell_type": "code",
   "execution_count": 12,
   "id": "d8e0cb4b",
   "metadata": {},
   "outputs": [
    {
     "name": "stdout",
     "output_type": "stream",
     "text": [
      "[[25, 23], [25, 22], [24, 22], [24, 21], [23, 21], [23, 20], [23, 19], [22, 19], [22, 18], [22, 17], [23, 17]]\n"
     ]
    }
   ],
   "source": [
    "print(get_shortest_path(25,23)) "
   ]
  },
  {
   "cell_type": "code",
   "execution_count": 13,
   "id": "9a87ecd1",
   "metadata": {},
   "outputs": [],
   "source": [
    "x=get_shortest_path(25, 23)"
   ]
  },
  {
   "cell_type": "code",
   "execution_count": 14,
   "id": "6a4eea2b",
   "metadata": {},
   "outputs": [
    {
     "data": {
      "text/plain": [
       "(11, 2)"
      ]
     },
     "execution_count": 14,
     "metadata": {},
     "output_type": "execute_result"
    }
   ],
   "source": [
    "x=np.array(x)\n",
    "x.shape"
   ]
  },
  {
   "cell_type": "code",
   "execution_count": 15,
   "id": "00b5e184",
   "metadata": {},
   "outputs": [
    {
     "name": "stdout",
     "output_type": "stream",
     "text": [
      "25  ,  23\n",
      "25  ,  22\n",
      "24  ,  22\n",
      "24  ,  21\n",
      "23  ,  21\n",
      "23  ,  20\n",
      "23  ,  19\n",
      "22  ,  19\n",
      "22  ,  18\n",
      "22  ,  17\n",
      "23  ,  17\n"
     ]
    },
    {
     "ename": "IndexError",
     "evalue": "index 11 is out of bounds for axis 0 with size 11",
     "output_type": "error",
     "traceback": [
      "\u001b[1;31m---------------------------------------------------------------------------\u001b[0m",
      "\u001b[1;31mIndexError\u001b[0m                                Traceback (most recent call last)",
      "Input \u001b[1;32mIn [15]\u001b[0m, in \u001b[0;36m<cell line: 1>\u001b[1;34m()\u001b[0m\n\u001b[0;32m      1\u001b[0m \u001b[38;5;28;01mfor\u001b[39;00m i \u001b[38;5;129;01min\u001b[39;00m \u001b[38;5;28mrange\u001b[39m(\u001b[38;5;241m72\u001b[39m):\n\u001b[1;32m----> 2\u001b[0m     \u001b[38;5;28mprint\u001b[39m(\u001b[43mx\u001b[49m\u001b[43m[\u001b[49m\u001b[43mi\u001b[49m\u001b[43m]\u001b[49m[\u001b[38;5;241m0\u001b[39m],\u001b[38;5;124m\"\u001b[39m\u001b[38;5;124m , \u001b[39m\u001b[38;5;124m\"\u001b[39m,x[i][\u001b[38;5;241m1\u001b[39m])\n",
      "\u001b[1;31mIndexError\u001b[0m: index 11 is out of bounds for axis 0 with size 11"
     ]
    }
   ],
   "source": [
    "for i in range(72):\n",
    "    print(x[i][0],\" , \",x[i][1])"
   ]
  },
  {
   "cell_type": "code",
   "execution_count": null,
   "id": "07821e4b",
   "metadata": {},
   "outputs": [],
   "source": []
  },
  {
   "cell_type": "code",
   "execution_count": 16,
   "id": "a238bafb",
   "metadata": {},
   "outputs": [],
   "source": [
    "g=cv2.imread(\"IMG3.jpeg\",)\n",
    "n,m=x.shape\n",
    "for i in range(n-1):\n",
    "    cv2.line(g,(x[i][1],x[i][0]),(x[i+1][1],x[i+1][0]),(0,255,0),1)\n",
    "        \n",
    "resized = cv2.resize(g, (500, 500), interpolation = cv2.INTER_AREA)\n",
    "cv2.imshow(\"Model Image\", resized)\n",
    "cv2.waitKey(0)\n",
    "cv2.destroyAllWindows()"
   ]
  },
  {
   "cell_type": "code",
   "execution_count": null,
   "id": "9768d4bd",
   "metadata": {},
   "outputs": [],
   "source": []
  }
 ],
 "metadata": {
  "kernelspec": {
   "display_name": "Python 3 (ipykernel)",
   "language": "python",
   "name": "python3"
  },
  "language_info": {
   "codemirror_mode": {
    "name": "ipython",
    "version": 3
   },
   "file_extension": ".py",
   "mimetype": "text/x-python",
   "name": "python",
   "nbconvert_exporter": "python",
   "pygments_lexer": "ipython3",
   "version": "3.10.4"
  }
 },
 "nbformat": 4,
 "nbformat_minor": 5
}
